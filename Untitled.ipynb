{
 "cells": [
  {
   "cell_type": "code",
   "execution_count": 1,
   "metadata": {},
   "outputs": [],
   "source": [
    "import numpy as np\n",
    "import matplotlib.pyplot as plt\n",
    "import matplotlib.patches as patches\n",
    "import numpy as np\n",
    "%matplotlib inline  "
   ]
  },
  {
   "cell_type": "code",
   "execution_count": 2,
   "metadata": {},
   "outputs": [],
   "source": [
    "def exponential_mechanism(data, domain, quality_function, eps, bulk=False, for_sparse=False):\n",
    "    \"\"\"Exponential Mechanism\n",
    "    exponential_mechanism ( data , domain , quality function , privacy parameter )\n",
    "    :param data: list or array of values\n",
    "    :param domain: list of possible results\n",
    "    :param quality_function: function which get as input the data and a domain element and 'qualifies' it\n",
    "    :param eps: privacy parameter\n",
    "    :param bulk: in case that we can reduce run-time by evaluating the quality of the whole domain in bulk,\n",
    "    the procedure will be given a 'bulk' quality function. meaning that instead of one domain element the\n",
    "    quality function get the whole domain as input\n",
    "    :param for_sparse: in cases that the domain is a very spared one, namely a big percent of the domain has quality 0,\n",
    "    there is a special procedure called sparse_domain. That procedure needs, beside that result from the given\n",
    "    mechanism, the total weight of the domain whose quality is more than 0. If that is the case Exponential-Mechanism\n",
    "    will return also the P DF before the normalization.\n",
    "    :return: an element of domain with approximately maximum value of quality function\n",
    "    \"\"\"\n",
    "\n",
    "    # calculate a list of probabilities for each element in the domain D\n",
    "    # probability of element d in domain proportional to exp(eps*quality(data,d)/2)\n",
    "    if bulk:\n",
    "        qualified_domain = quality_function(data, domain)\n",
    "        domain_pdf = [np.exp(eps * q / 2) for q in qualified_domain]\n",
    "    else:\n",
    "        domain_pdf = [np.exp(eps * quality_function(data, d) / 2) for d in domain]\n",
    "    total_value = float(sum(domain_pdf))\n",
    "    domain_pdf = [d / total_value for d in domain_pdf]\n",
    "    normalizer = sum(domain_pdf)\n",
    "    # for debugging and other reasons: check that domain_cdf indeed defines a distribution\n",
    "    # use the uniform distribution (from 0 to 1) to pick an elements by the CDF\n",
    "    if abs(normalizer - 1) > 0.001:\n",
    "        raise ValueError('ERR: exponential_mechanism, sum(domain_pdf) != 1.')\n",
    "\n",
    "    # accumulate elements to get the CDF of the exponential distribution\n",
    "    domain_cdf = np.cumsum(domain_pdf).tolist()\n",
    "    # pick a uniformly random value on the CDF\n",
    "    pick = np.random.uniform()\n",
    "\n",
    "    # return the index corresponding to the pick\n",
    "    # take the min between the index and  len(D)-1 to prevent returning index out of bound\n",
    "    result = domain[min(np.searchsorted(domain_cdf, pick), len(domain)-1)]\n",
    "    # in exponential_mechanism_sparse we need also the total_sum value\n",
    "    if for_sparse:\n",
    "        return result, total_value\n",
    "    return result"
   ]
  },
  {
   "cell_type": "code",
   "execution_count": 3,
   "metadata": {},
   "outputs": [],
   "source": [
    "def generate_labeled(size, dimension, trials=1000, pvals=0.5):\n",
    "    ps = pvals*dimension\n",
    "    sample = np.array([np.random.binomial(t,pvals,size) for t in [trials]*dimension])\n",
    "    sample = np.column_stack((sample))\n",
    "    sample = sample - tuple(sample[:,i].min() for i in range(dimension))\n",
    "    mins = [min(sample[:,i]) for i in range(dimension)]\n",
    "    maxs = [max(sample[:,i]) for i in range(dimension)]\n",
    "    thresholds = [np.random.uniform(int(mins[i]/3+2*maxs[i]/3), int(mins[i]/3+2*maxs[i]/3), 1) for i in range(dimension)]\n",
    "    positives = np.array([x for x in sample if all(x[i] <= thresholds[i] for i in range(dimension))])\n",
    "    negatives = np.array([x for x in sample if any(x[i] > thresholds[i] for i in range(dimension))])\n",
    "    return positives, negatives"
   ]
  },
  {
   "cell_type": "code",
   "execution_count": 5,
   "metadata": {},
   "outputs": [],
   "source": [
    "   \n",
    "def aar(data, domain,  dimension, margins_size=0, beta=0.1, eps=0.5, delta=0.1, t=0.4, test=False):\n",
    "    def q(data, x):\n",
    "        if min(data) <= x <= max(data):\n",
    "           return min(data[data <= x].shape[0], data[data >= x].shape[0])\n",
    "        else:\n",
    "           return 0\n",
    "\n",
    "    picks = np.zeros(dimension)\n",
    "    d = data\n",
    "    if not margins_size:\n",
    "        margins_size = 150*int(np.log(100*domain**2))\n",
    "    if test:        \n",
    "        interiors = [np.array(1) for _ in range(dimension)]\n",
    "        margins = [np.array(1) for _ in range(dimension)]\n",
    "        \n",
    "    for i in range(dimension):\n",
    "        noisy_margin = int(np.ceil(np.random.laplace(margins_size, margins_size*t, 1)))\n",
    "        margin = d[np.argpartition(d[:,i],(-1)*noisy_margin)][(-1)*noisy_margin:]\n",
    "        tnoise = int(t**2 * noisy_margin)\n",
    "        interior = margin[np.argpartition(margin[:,i],tnoise)][:tnoise]\n",
    "        pick = exponential_mechanism(interior[:,i], np.arange(0,domain), q, eps)\n",
    "        new_d = np.array([x for x in d if x[i] < pick])\n",
    "        d = new_d\n",
    "        picks[i] = pick\n",
    "        if test:\n",
    "            margins[i] = margin\n",
    "            interiors[i] = interior            \n",
    "        \n",
    "    if test:\n",
    "        return picks, margins, interiors\n",
    "    else:\n",
    "        return picks"
   ]
  },
  {
   "cell_type": "code",
   "execution_count": 8,
   "metadata": {},
   "outputs": [],
   "source": [
    "def false_negatives(positives, points):\n",
    "    return sum(1 for x in positives if any(x[i] > points[i]\n",
    "                                           for i in range(len(points))))  / positives.shape[0]"
   ]
  },
  {
   "cell_type": "code",
   "execution_count": null,
   "metadata": {},
   "outputs": [],
   "source": []
  }
 ],
 "metadata": {
  "kernelspec": {
   "display_name": "Python 3",
   "language": "python",
   "name": "python3"
  },
  "language_info": {
   "codemirror_mode": {
    "name": "ipython",
    "version": 3
   },
   "file_extension": ".py",
   "mimetype": "text/x-python",
   "name": "python",
   "nbconvert_exporter": "python",
   "pygments_lexer": "ipython3",
   "version": "3.7.7"
  }
 },
 "nbformat": 4,
 "nbformat_minor": 4
}
